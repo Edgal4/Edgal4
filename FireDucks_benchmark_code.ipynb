{
  "cells": [
    {
      "cell_type": "markdown",
      "metadata": {
        "id": "view-in-github",
        "colab_type": "text"
      },
      "source": [
        "<a href=\"https://colab.research.google.com/github/Edgal4/Edgal4/blob/main/FireDucks_benchmark_code.ipynb\" target=\"_parent\"><img src=\"https://colab.research.google.com/assets/colab-badge.svg\" alt=\"Open In Colab\"/></a>"
      ]
    },
    {
      "cell_type": "code",
      "execution_count": 1,
      "metadata": {
        "id": "FqF2aCCPUShb",
        "outputId": "2caaaf87-e930-402e-dc70-62f0a23e5a63",
        "colab": {
          "base_uri": "https://localhost:8080/"
        }
      },
      "outputs": [
        {
          "output_type": "stream",
          "name": "stdout",
          "text": [
            "Collecting fireducks\n",
            "  Downloading fireducks-1.1.0-cp310-cp310-manylinux_2_28_x86_64.whl.metadata (1.2 kB)\n",
            "Collecting firefw==1.1.0 (from fireducks)\n",
            "  Downloading firefw-1.1.0-py3-none-any.whl.metadata (818 bytes)\n",
            "Requirement already satisfied: numba in /usr/local/lib/python3.10/dist-packages (from fireducks) (0.60.0)\n",
            "Requirement already satisfied: pandas<2.3.0,>=1.5.3 in /usr/local/lib/python3.10/dist-packages (from fireducks) (2.2.2)\n",
            "Requirement already satisfied: pyarrow<18.1,>=18.0 in /usr/local/lib/python3.10/dist-packages (from fireducks) (18.0.0)\n",
            "Requirement already satisfied: numpy>=1.22.4 in /usr/local/lib/python3.10/dist-packages (from pandas<2.3.0,>=1.5.3->fireducks) (1.26.4)\n",
            "Requirement already satisfied: python-dateutil>=2.8.2 in /usr/local/lib/python3.10/dist-packages (from pandas<2.3.0,>=1.5.3->fireducks) (2.9.0.post0)\n",
            "Requirement already satisfied: pytz>=2020.1 in /usr/local/lib/python3.10/dist-packages (from pandas<2.3.0,>=1.5.3->fireducks) (2024.2)\n",
            "Requirement already satisfied: tzdata>=2022.7 in /usr/local/lib/python3.10/dist-packages (from pandas<2.3.0,>=1.5.3->fireducks) (2024.2)\n",
            "Requirement already satisfied: llvmlite<0.44,>=0.43.0dev0 in /usr/local/lib/python3.10/dist-packages (from numba->fireducks) (0.43.0)\n",
            "Requirement already satisfied: six>=1.5 in /usr/local/lib/python3.10/dist-packages (from python-dateutil>=2.8.2->pandas<2.3.0,>=1.5.3->fireducks) (1.16.0)\n",
            "Downloading fireducks-1.1.0-cp310-cp310-manylinux_2_28_x86_64.whl (7.0 MB)\n",
            "\u001b[2K   \u001b[90m━━━━━━━━━━━━━━━━━━━━━━━━━━━━━━━━━━━━━━━━\u001b[0m \u001b[32m7.0/7.0 MB\u001b[0m \u001b[31m50.6 MB/s\u001b[0m eta \u001b[36m0:00:00\u001b[0m\n",
            "\u001b[?25hDownloading firefw-1.1.0-py3-none-any.whl (12 kB)\n",
            "Installing collected packages: firefw, fireducks\n",
            "Successfully installed fireducks-1.1.0 firefw-1.1.0\n"
          ]
        }
      ],
      "source": [
        "!pip install fireducks"
      ]
    },
    {
      "cell_type": "code",
      "execution_count": 2,
      "metadata": {
        "id": "mC9NK8BhsAlr"
      },
      "outputs": [],
      "source": [
        "import time"
      ]
    },
    {
      "cell_type": "code",
      "execution_count": 3,
      "metadata": {
        "id": "3roUn9XiUE8G",
        "outputId": "829ad479-3ed8-4001-fd7e-308a2cbdec99",
        "colab": {
          "base_uri": "https://localhost:8080/"
        }
      },
      "outputs": [
        {
          "output_type": "execute_result",
          "data": {
            "text/plain": [
              "('taxi.csv', <http.client.HTTPMessage at 0x7e9b2448fa00>)"
            ]
          },
          "metadata": {},
          "execution_count": 3
        }
      ],
      "source": [
        "# download the dataset:\n",
        "\n",
        "import urllib.request\n",
        "s3_path = \"https://modin-datasets.s3.amazonaws.com/testing/yellow_tripdata_2015-01.csv\"\n",
        "urllib.request.urlretrieve(s3_path, \"taxi.csv\")"
      ]
    },
    {
      "cell_type": "code",
      "execution_count": 4,
      "metadata": {
        "id": "fzuTMjVznk84"
      },
      "outputs": [],
      "source": [
        "import fireducks.pandas as fpd\n",
        "import pandas as pd"
      ]
    },
    {
      "cell_type": "code",
      "execution_count": 5,
      "metadata": {
        "id": "OPgovCFgQLBx"
      },
      "outputs": [],
      "source": [
        "from fireducks.core import get_fireducks_options\n",
        "\n",
        "get_fireducks_options().set_benchmark_mode(True)"
      ]
    },
    {
      "cell_type": "markdown",
      "source": [
        "### Read CSV"
      ],
      "metadata": {
        "id": "eJqMHCw_-a4h"
      }
    },
    {
      "cell_type": "code",
      "execution_count": 6,
      "metadata": {
        "id": "41OZBBOyQDWn",
        "outputId": "2abeb5aa-524e-4bf8-f5ea-795f993cfb89",
        "colab": {
          "base_uri": "https://localhost:8080/"
        }
      },
      "outputs": [
        {
          "output_type": "stream",
          "name": "stdout",
          "text": [
            "1.06 s ± 91.5 ms per loop (mean ± std. dev. of 7 runs, 1 loop each)\n"
          ]
        }
      ],
      "source": [
        "%timeit fpd.read_csv(\"taxi.csv\")"
      ]
    },
    {
      "cell_type": "code",
      "execution_count": 7,
      "metadata": {
        "id": "Z5x03qdbQM0E",
        "outputId": "94c2c660-94a0-4e18-8c71-607c19fc84b1",
        "colab": {
          "base_uri": "https://localhost:8080/"
        }
      },
      "outputs": [
        {
          "output_type": "stream",
          "name": "stdout",
          "text": [
            "3.23 s ± 56.5 ms per loop (mean ± std. dev. of 7 runs, 1 loop each)\n"
          ]
        }
      ],
      "source": [
        "%timeit pd.read_csv(\"taxi.csv\")"
      ]
    },
    {
      "cell_type": "markdown",
      "source": [
        "## To CSV"
      ],
      "metadata": {
        "id": "_jQr9JC5-elx"
      }
    },
    {
      "cell_type": "code",
      "execution_count": 8,
      "metadata": {
        "id": "IHBTA4KvQUAj"
      },
      "outputs": [],
      "source": [
        "df_pd = pd.read_csv(\"taxi.csv\")\n",
        "df_fd = fpd.read_csv(\"taxi.csv\")"
      ]
    },
    {
      "cell_type": "code",
      "execution_count": 9,
      "metadata": {
        "id": "1e82017d",
        "outputId": "1fdfd6b6-2bec-4c27-fcda-f20878414c0c",
        "colab": {
          "base_uri": "https://localhost:8080/"
        }
      },
      "outputs": [
        {
          "output_type": "stream",
          "name": "stdout",
          "text": [
            "13.6 s ± 54.9 ms per loop (mean ± std. dev. of 7 runs, 1 loop each)\n"
          ]
        }
      ],
      "source": [
        "%timeit df_pd.to_csv(\"dataset_dummy_pandas.csv\")"
      ]
    },
    {
      "cell_type": "code",
      "execution_count": 10,
      "metadata": {
        "id": "2ba8d221",
        "outputId": "a3f6ed0c-20d9-40f3-ec7e-9e97b6759623",
        "colab": {
          "base_uri": "https://localhost:8080/"
        }
      },
      "outputs": [
        {
          "output_type": "stream",
          "name": "stdout",
          "text": [
            "2.27 s ± 209 ms per loop (mean ± std. dev. of 7 runs, 1 loop each)\n"
          ]
        }
      ],
      "source": [
        "%timeit df_fd.to_csv(\"dataset_dummy_fireducks.csv\")"
      ]
    },
    {
      "cell_type": "markdown",
      "metadata": {
        "id": "71757a87"
      },
      "source": [
        "### Memory Usage"
      ]
    },
    {
      "cell_type": "code",
      "execution_count": 11,
      "metadata": {
        "id": "b629b32a",
        "outputId": "08001684-95e3-4e49-827b-4e5e40c1b522",
        "colab": {
          "base_uri": "https://localhost:8080/"
        }
      },
      "outputs": [
        {
          "output_type": "stream",
          "name": "stdout",
          "text": [
            "<class 'pandas.core.frame.DataFrame'>\n",
            "RangeIndex: 1933507 entries, 0 to 1933506\n",
            "Data columns (total 21 columns):\n",
            " #   Column                 Dtype  \n",
            "---  ------                 -----  \n",
            " 0   Unnamed: 0             int64  \n",
            " 1   Unnamed: 0             int64  \n",
            " 2   VendorID               int64  \n",
            " 3   tpep_pickup_datetime   object \n",
            " 4   tpep_dropoff_datetime  object \n",
            " 5   passenger_count        int64  \n",
            " 6   trip_distance          float64\n",
            " 7   RatecodeID             int64  \n",
            " 8   store_and_fwd_flag     object \n",
            " 9   PULocationID           int64  \n",
            " 10  DOLocationID           int64  \n",
            " 11  payment_type           int64  \n",
            " 12  fare_amount            float64\n",
            " 13  extra                  float64\n",
            " 14  mta_tax                float64\n",
            " 15  tip_amount             float64\n",
            " 16  tolls_amount           float64\n",
            " 17  improvement_surcharge  float64\n",
            " 18  total_amount           float64\n",
            " 19  congestion_surcharge   float64\n",
            " 20  airport_fee            float64\n",
            "dtypes: float64(10), int64(8), object(3)\n",
            "memory usage: 652.8 MB\n"
          ]
        }
      ],
      "source": [
        "df_fd.info(memory_usage=\"deep\")"
      ]
    },
    {
      "cell_type": "code",
      "execution_count": 12,
      "metadata": {
        "id": "73fa7150",
        "scrolled": true,
        "outputId": "21a03986-7134-414e-baec-bc605a363d6b",
        "colab": {
          "base_uri": "https://localhost:8080/"
        }
      },
      "outputs": [
        {
          "output_type": "stream",
          "name": "stdout",
          "text": [
            "<class 'pandas.core.frame.DataFrame'>\n",
            "RangeIndex: 1933507 entries, 0 to 1933506\n",
            "Data columns (total 21 columns):\n",
            " #   Column                 Dtype  \n",
            "---  ------                 -----  \n",
            " 0   Unnamed: 0.1           int64  \n",
            " 1   Unnamed: 0             int64  \n",
            " 2   VendorID               int64  \n",
            " 3   tpep_pickup_datetime   object \n",
            " 4   tpep_dropoff_datetime  object \n",
            " 5   passenger_count        int64  \n",
            " 6   trip_distance          float64\n",
            " 7   RatecodeID             int64  \n",
            " 8   store_and_fwd_flag     object \n",
            " 9   PULocationID           int64  \n",
            " 10  DOLocationID           int64  \n",
            " 11  payment_type           int64  \n",
            " 12  fare_amount            float64\n",
            " 13  extra                  float64\n",
            " 14  mta_tax                float64\n",
            " 15  tip_amount             float64\n",
            " 16  tolls_amount           float64\n",
            " 17  improvement_surcharge  float64\n",
            " 18  total_amount           float64\n",
            " 19  congestion_surcharge   float64\n",
            " 20  airport_fee            float64\n",
            "dtypes: float64(10), int64(8), object(3)\n",
            "memory usage: 652.8 MB\n"
          ]
        }
      ],
      "source": [
        "df_pd.info(memory_usage=\"deep\")"
      ]
    },
    {
      "cell_type": "markdown",
      "metadata": {
        "id": "abe0b05d"
      },
      "source": [
        "### Selecting Columns"
      ]
    },
    {
      "cell_type": "code",
      "execution_count": 13,
      "metadata": {
        "id": "03fc86e6",
        "outputId": "d15a69b9-4d8a-4ad7-802d-6b11943b6981",
        "colab": {
          "base_uri": "https://localhost:8080/"
        }
      },
      "outputs": [
        {
          "output_type": "stream",
          "name": "stdout",
          "text": [
            "5.26 ms ± 81.2 µs per loop (mean ± std. dev. of 7 runs, 100 loops each)\n"
          ]
        }
      ],
      "source": [
        "%timeit df_pd[[\"congestion_surcharge\", \"airport_fee\"]]"
      ]
    },
    {
      "cell_type": "code",
      "execution_count": 14,
      "metadata": {
        "id": "268c44f4",
        "outputId": "0ec97ced-9a5e-4134-88e0-8546940e126a",
        "colab": {
          "base_uri": "https://localhost:8080/"
        }
      },
      "outputs": [
        {
          "output_type": "stream",
          "name": "stdout",
          "text": [
            "1.61 ms ± 27 µs per loop (mean ± std. dev. of 7 runs, 1000 loops each)\n"
          ]
        }
      ],
      "source": [
        "%timeit df_fd[[\"congestion_surcharge\", \"airport_fee\"]]"
      ]
    },
    {
      "cell_type": "markdown",
      "metadata": {
        "id": "c3c70388"
      },
      "source": [
        "### Filtering"
      ]
    },
    {
      "cell_type": "code",
      "execution_count": 15,
      "metadata": {
        "id": "61e92dac",
        "outputId": "a74ba961-3072-4dc6-b44a-2c2aa1f06ce5",
        "colab": {
          "base_uri": "https://localhost:8080/"
        }
      },
      "outputs": [
        {
          "output_type": "stream",
          "name": "stdout",
          "text": [
            "82.5 ms ± 713 µs per loop (mean ± std. dev. of 7 runs, 10 loops each)\n"
          ]
        }
      ],
      "source": [
        "%timeit df_pd[df_pd.trip_distance>4]"
      ]
    },
    {
      "cell_type": "code",
      "execution_count": 16,
      "metadata": {
        "id": "b82e26ed",
        "outputId": "200a7c90-2822-45a5-fe69-c2ec1f7aaf1c",
        "colab": {
          "base_uri": "https://localhost:8080/"
        }
      },
      "outputs": [
        {
          "output_type": "stream",
          "name": "stdout",
          "text": [
            "99.5 ms ± 2.81 ms per loop (mean ± std. dev. of 7 runs, 10 loops each)\n"
          ]
        }
      ],
      "source": [
        "%timeit df_fd[df_fd.trip_distance>4]"
      ]
    },
    {
      "cell_type": "markdown",
      "metadata": {
        "id": "bb61a98b"
      },
      "source": [
        "### Grouping"
      ]
    },
    {
      "cell_type": "code",
      "execution_count": 17,
      "metadata": {
        "id": "4491785b",
        "outputId": "02f4239c-2b27-4387-99b9-e56b0b011e53",
        "colab": {
          "base_uri": "https://localhost:8080/"
        }
      },
      "outputs": [
        {
          "output_type": "stream",
          "name": "stdout",
          "text": [
            "28.6 ms ± 634 µs per loop (mean ± std. dev. of 7 runs, 10 loops each)\n"
          ]
        }
      ],
      "source": [
        "%timeit df_pd.groupby(\"PULocationID\").mta_tax.mean().reset_index()"
      ]
    },
    {
      "cell_type": "code",
      "execution_count": 18,
      "metadata": {
        "id": "5d09f3d3",
        "outputId": "364b1860-0825-47f2-b6fa-ecd49340def9",
        "colab": {
          "base_uri": "https://localhost:8080/"
        }
      },
      "outputs": [
        {
          "output_type": "stream",
          "name": "stdout",
          "text": [
            "14.3 ms ± 257 µs per loop (mean ± std. dev. of 7 runs, 100 loops each)\n"
          ]
        }
      ],
      "source": [
        "%timeit df_fd.groupby(\"PULocationID\").mta_tax.mean().reset_index()"
      ]
    },
    {
      "cell_type": "markdown",
      "metadata": {
        "id": "f73f089f"
      },
      "source": [
        "### Sorting"
      ]
    },
    {
      "cell_type": "code",
      "execution_count": 19,
      "metadata": {
        "id": "e23dc236",
        "outputId": "ecf07574-9b5b-4457-e836-05c02c263b6d",
        "colab": {
          "base_uri": "https://localhost:8080/"
        }
      },
      "outputs": [
        {
          "output_type": "stream",
          "name": "stdout",
          "text": [
            "1.14 s ± 72 ms per loop (mean ± std. dev. of 7 runs, 1 loop each)\n"
          ]
        }
      ],
      "source": [
        "%timeit df_pd.sort_values(\"fare_amount\")"
      ]
    },
    {
      "cell_type": "code",
      "execution_count": 20,
      "metadata": {
        "id": "7fda5eee",
        "scrolled": true,
        "outputId": "39ef6dfe-9076-469a-c5be-0b4444f28f28",
        "colab": {
          "base_uri": "https://localhost:8080/"
        }
      },
      "outputs": [
        {
          "output_type": "stream",
          "name": "stdout",
          "text": [
            "599 ms ± 44.7 ms per loop (mean ± std. dev. of 7 runs, 1 loop each)\n"
          ]
        }
      ],
      "source": [
        "%timeit df_fd.sort_values(\"fare_amount\")"
      ]
    },
    {
      "cell_type": "markdown",
      "metadata": {
        "id": "DQZmb4os_CaP"
      },
      "source": [
        "### Concatenating"
      ]
    },
    {
      "cell_type": "code",
      "execution_count": 21,
      "metadata": {
        "id": "Ef-71z0-_CaQ",
        "outputId": "e34c7ccd-0ae3-4c10-b7bb-0fa809b8be3c",
        "colab": {
          "base_uri": "https://localhost:8080/"
        }
      },
      "outputs": [
        {
          "output_type": "stream",
          "name": "stdout",
          "text": [
            "2.07 s ± 13.5 ms per loop (mean ± std. dev. of 7 runs, 1 loop each)\n"
          ]
        }
      ],
      "source": [
        "%timeit pd.concat([df_pd for i in range(10)])"
      ]
    },
    {
      "cell_type": "code",
      "execution_count": 22,
      "metadata": {
        "scrolled": true,
        "id": "0juHzfvU_CaQ",
        "outputId": "16d8c08d-5241-42f2-dbb0-66b1db4d6fb8",
        "colab": {
          "base_uri": "https://localhost:8080/"
        }
      },
      "outputs": [
        {
          "output_type": "stream",
          "name": "stdout",
          "text": [
            "16.8 ms ± 1.61 ms per loop (mean ± std. dev. of 7 runs, 100 loops each)\n"
          ]
        }
      ],
      "source": [
        "%timeit fpd.concat([df_fd for i in range(10)])"
      ]
    },
    {
      "cell_type": "markdown",
      "metadata": {
        "id": "7R29XIuX_-IE"
      },
      "source": [
        "### Merging"
      ]
    },
    {
      "cell_type": "code",
      "execution_count": 23,
      "metadata": {
        "id": "LK9P08e2_-IF",
        "outputId": "9b2e3c48-27cb-43a0-de78-d05d46fcceae",
        "colab": {
          "base_uri": "https://localhost:8080/"
        }
      },
      "outputs": [
        {
          "output_type": "stream",
          "name": "stdout",
          "text": [
            "3.21 s ± 20.7 ms per loop (mean ± std. dev. of 7 runs, 1 loop each)\n"
          ]
        }
      ],
      "source": [
        "%timeit a = pd.merge(df_pd[::100], df_pd[1::100], on = \"PULocationID\")"
      ]
    },
    {
      "cell_type": "code",
      "execution_count": 24,
      "metadata": {
        "scrolled": true,
        "id": "MUH_CRgE_-IF",
        "outputId": "d3b38830-bc5c-4418-88d2-853b8eebaeea",
        "colab": {
          "base_uri": "https://localhost:8080/"
        }
      },
      "outputs": [
        {
          "output_type": "stream",
          "name": "stdout",
          "text": [
            "8.12 s ± 1.11 s per loop (mean ± std. dev. of 7 runs, 1 loop each)\n"
          ]
        }
      ],
      "source": [
        "%timeit a = fpd.merge(df_fd[::100], df_fd[1::100], on = \"PULocationID\")"
      ]
    },
    {
      "cell_type": "code",
      "source": [],
      "metadata": {
        "id": "ikS3SE5cNgdT"
      },
      "execution_count": 24,
      "outputs": []
    }
  ],
  "metadata": {
    "colab": {
      "provenance": [],
      "gpuType": "V28",
      "include_colab_link": true
    },
    "kernelspec": {
      "display_name": "Python 3",
      "name": "python3"
    },
    "language_info": {
      "name": "python"
    },
    "accelerator": "TPU"
  },
  "nbformat": 4,
  "nbformat_minor": 0
}