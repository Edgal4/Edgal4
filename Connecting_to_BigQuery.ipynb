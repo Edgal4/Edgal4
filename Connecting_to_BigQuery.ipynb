{
  "nbformat": 4,
  "nbformat_minor": 0,
  "metadata": {
    "colab": {
      "provenance": [],
      "include_colab_link": true
    },
    "kernelspec": {
      "name": "python3",
      "display_name": "Python 3"
    },
    "language_info": {
      "name": "python"
    }
  },
  "cells": [
    {
      "cell_type": "markdown",
      "metadata": {
        "id": "view-in-github",
        "colab_type": "text"
      },
      "source": [
        "<a href=\"https://colab.research.google.com/github/Edgal4/Edgal4/blob/main/Connecting_to_BigQuery.ipynb\" target=\"_parent\"><img src=\"https://colab.research.google.com/assets/colab-badge.svg\" alt=\"Open In Colab\"/></a>"
      ]
    },
    {
      "cell_type": "code",
      "execution_count": 1,
      "metadata": {
        "id": "WCby4SSOYI12"
      },
      "outputs": [],
      "source": [
        "# Library imports\n",
        "import google.auth\n",
        "import pandas_gbq\n",
        "import pandas as pd"
      ]
    },
    {
      "cell_type": "markdown",
      "source": [
        "### Authentication"
      ],
      "metadata": {
        "id": "VGbuna8OYmc1"
      }
    },
    {
      "cell_type": "code",
      "source": [
        "!gcloud auth application-default login"
      ],
      "metadata": {
        "id": "DFBEZavAYQ_n",
        "colab": {
          "base_uri": "https://localhost:8080/"
        },
        "outputId": "5ff1105e-4040-443e-fc72-31afcf94d4e4"
      },
      "execution_count": 2,
      "outputs": [
        {
          "output_type": "stream",
          "name": "stdout",
          "text": [
            "Go to the following link in your browser:\n",
            "\n",
            "    https://accounts.google.com/o/oauth2/auth?response_type=code&client_id=764086051850-6qr4p6gpi6hn506pt8ejuq83di341hur.apps.googleusercontent.com&redirect_uri=https%3A%2F%2Fsdk.cloud.google.com%2Fapplicationdefaultauthcode.html&scope=openid+https%3A%2F%2Fwww.googleapis.com%2Fauth%2Fuserinfo.email+https%3A%2F%2Fwww.googleapis.com%2Fauth%2Fcloud-platform+https%3A%2F%2Fwww.googleapis.com%2Fauth%2Fsqlservice.login+https%3A%2F%2Fwww.googleapis.com%2Fauth%2Faccounts.reauth&state=7qgU1jtf0f0J5MDN5mdbBawZs3wEyV&prompt=consent&access_type=offline&code_challenge=YakghwCEN2KW3mCC95hiyov6bD1v8JDXiX4T95lSrzI&code_challenge_method=S256\n",
            "\n",
            "Enter authorization code: 4/0AVHEtk5SQm9Ei3wugYyLEIhQcdc1Mg8t6Dg8Ss5buchZ_5nanp1sEuWlfzQ6IThZeNHAKw\n",
            "\n",
            "Credentials saved to file: [/content/.config/application_default_credentials.json]\n",
            "\n",
            "These credentials will be used by any library that requests Application Default Credentials (ADC).\n",
            "\u001b[1;33mWARNING:\u001b[0m \n",
            "Cannot find a quota project to add to ADC. You might receive a \"quota exceeded\" or \"API not enabled\" error. Run $ gcloud auth application-default set-quota-project to add a quota project.\n"
          ]
        }
      ]
    },
    {
      "cell_type": "code",
      "source": [
        "credentials, project = google.auth.default()\n",
        "\n",
        "# Update the in-memory credentials cache\n",
        "pandas_gbq.context.credentials = credentials\n",
        "pandas_gbq.context.project = \"ingka-analytic-csandrs-test\""
      ],
      "metadata": {
        "id": "EU96trbvYRB1",
        "colab": {
          "base_uri": "https://localhost:8080/"
        },
        "outputId": "4e80fad4-9c69-4fd4-fe10-e3f3b900ff26"
      },
      "execution_count": 4,
      "outputs": [
        {
          "output_type": "stream",
          "name": "stderr",
          "text": [
            "/usr/local/lib/python3.9/dist-packages/google/auth/_default.py:78: UserWarning: Your application has authenticated using end user credentials from Google Cloud SDK without a quota project. You might receive a \"quota exceeded\" or \"API not enabled\" error. See the following page for troubleshooting: https://cloud.google.com/docs/authentication/adc-troubleshooting/user-creds. \n",
            "  warnings.warn(_CLOUD_SDK_CREDENTIALS_WARNING)\n"
          ]
        }
      ]
    },
    {
      "cell_type": "markdown",
      "source": [
        "### Querying a table from BigQuery"
      ],
      "metadata": {
        "id": "OYIfOt9HYxGQ"
      }
    },
    {
      "cell_type": "code",
      "source": [
        "# Define project and table IDs\n",
        "project_id = \"ingka-analytic-csandrs-test\"\n",
        "table_id = \"ingka-analytic-csandrs-test.GLOBAL_CS_Dashboard_PowerBI.Top_Level_Data\""
      ],
      "metadata": {
        "id": "FnIpWXaDoY65"
      },
      "execution_count": 5,
      "outputs": []
    },
    {
      "cell_type": "code",
      "source": [
        "# # Write the SQL query\n",
        "sql_query = \"\"\"\n",
        "  SELECT *\n",
        "  FROM `ingka-analytic-csandrs-test.GLOBAL_CS_Dashboard_PowerBI.Top_Level_Data` \n",
        "  WHERE website_market = \"Italy\"\n",
        "\"\"\""
      ],
      "metadata": {
        "id": "5cbuyaxHYRD0"
      },
      "execution_count": 6,
      "outputs": []
    },
    {
      "cell_type": "code",
      "source": [
        "df = pandas_gbq.read_gbq(sql_query, \n",
        "                         project_id=project_id)"
      ],
      "metadata": {
        "id": "6Hf9rMahYRGL",
        "colab": {
          "base_uri": "https://localhost:8080/"
        },
        "outputId": "ac9a9be4-6517-41aa-d218-d681ca5d1a8f"
      },
      "execution_count": 7,
      "outputs": [
        {
          "output_type": "stream",
          "name": "stdout",
          "text": [
            "Downloading: 100%|\u001b[32m██████████\u001b[0m|\n"
          ]
        }
      ]
    },
    {
      "cell_type": "code",
      "source": [
        "df"
      ],
      "metadata": {
        "colab": {
          "base_uri": "https://localhost:8080/",
          "height": 423
        },
        "id": "UcprnfrcPS0v",
        "outputId": "40e041f0-cb83-4d51-ba29-4bdb939042b5"
      },
      "execution_count": 8,
      "outputs": [
        {
          "output_type": "execute_result",
          "data": {
            "text/plain": [
              "     date_month website_market device_category      traffic_channel  \\\n",
              "0    2022-05-01          Italy         desktop                Email   \n",
              "1    2022-09-01          Italy          tablet                Email   \n",
              "2    2022-11-01          Italy          mobile                Email   \n",
              "3    2022-10-01          Italy          tablet                Email   \n",
              "4    2023-04-01          Italy          mobile                Email   \n",
              "..          ...            ...             ...                  ...   \n",
              "423  2022-12-01          Italy          tablet  Generic Paid Search   \n",
              "424  2022-04-01          Italy          mobile  Generic Paid Search   \n",
              "425  2022-04-01          Italy         desktop  Generic Paid Search   \n",
              "426  2022-06-01          Italy          mobile  Generic Paid Search   \n",
              "427  2022-06-01          Italy          tablet  Generic Paid Search   \n",
              "\n",
              "     bounced_sessions  sessions  \n",
              "0               53967    105668  \n",
              "1                1794      3056  \n",
              "2              243907    358324  \n",
              "3                1989      3340  \n",
              "4               46717     71982  \n",
              "..                ...       ...  \n",
              "423             12471     22165  \n",
              "424            967656   1404137  \n",
              "425            163595    317359  \n",
              "426            895982   1258991  \n",
              "427             20690     30224  \n",
              "\n",
              "[428 rows x 6 columns]"
            ],
            "text/html": [
              "\n",
              "  <div id=\"df-59e41ade-d8f8-4656-a26b-53bb47812510\">\n",
              "    <div class=\"colab-df-container\">\n",
              "      <div>\n",
              "<style scoped>\n",
              "    .dataframe tbody tr th:only-of-type {\n",
              "        vertical-align: middle;\n",
              "    }\n",
              "\n",
              "    .dataframe tbody tr th {\n",
              "        vertical-align: top;\n",
              "    }\n",
              "\n",
              "    .dataframe thead th {\n",
              "        text-align: right;\n",
              "    }\n",
              "</style>\n",
              "<table border=\"1\" class=\"dataframe\">\n",
              "  <thead>\n",
              "    <tr style=\"text-align: right;\">\n",
              "      <th></th>\n",
              "      <th>date_month</th>\n",
              "      <th>website_market</th>\n",
              "      <th>device_category</th>\n",
              "      <th>traffic_channel</th>\n",
              "      <th>bounced_sessions</th>\n",
              "      <th>sessions</th>\n",
              "    </tr>\n",
              "  </thead>\n",
              "  <tbody>\n",
              "    <tr>\n",
              "      <th>0</th>\n",
              "      <td>2022-05-01</td>\n",
              "      <td>Italy</td>\n",
              "      <td>desktop</td>\n",
              "      <td>Email</td>\n",
              "      <td>53967</td>\n",
              "      <td>105668</td>\n",
              "    </tr>\n",
              "    <tr>\n",
              "      <th>1</th>\n",
              "      <td>2022-09-01</td>\n",
              "      <td>Italy</td>\n",
              "      <td>tablet</td>\n",
              "      <td>Email</td>\n",
              "      <td>1794</td>\n",
              "      <td>3056</td>\n",
              "    </tr>\n",
              "    <tr>\n",
              "      <th>2</th>\n",
              "      <td>2022-11-01</td>\n",
              "      <td>Italy</td>\n",
              "      <td>mobile</td>\n",
              "      <td>Email</td>\n",
              "      <td>243907</td>\n",
              "      <td>358324</td>\n",
              "    </tr>\n",
              "    <tr>\n",
              "      <th>3</th>\n",
              "      <td>2022-10-01</td>\n",
              "      <td>Italy</td>\n",
              "      <td>tablet</td>\n",
              "      <td>Email</td>\n",
              "      <td>1989</td>\n",
              "      <td>3340</td>\n",
              "    </tr>\n",
              "    <tr>\n",
              "      <th>4</th>\n",
              "      <td>2023-04-01</td>\n",
              "      <td>Italy</td>\n",
              "      <td>mobile</td>\n",
              "      <td>Email</td>\n",
              "      <td>46717</td>\n",
              "      <td>71982</td>\n",
              "    </tr>\n",
              "    <tr>\n",
              "      <th>...</th>\n",
              "      <td>...</td>\n",
              "      <td>...</td>\n",
              "      <td>...</td>\n",
              "      <td>...</td>\n",
              "      <td>...</td>\n",
              "      <td>...</td>\n",
              "    </tr>\n",
              "    <tr>\n",
              "      <th>423</th>\n",
              "      <td>2022-12-01</td>\n",
              "      <td>Italy</td>\n",
              "      <td>tablet</td>\n",
              "      <td>Generic Paid Search</td>\n",
              "      <td>12471</td>\n",
              "      <td>22165</td>\n",
              "    </tr>\n",
              "    <tr>\n",
              "      <th>424</th>\n",
              "      <td>2022-04-01</td>\n",
              "      <td>Italy</td>\n",
              "      <td>mobile</td>\n",
              "      <td>Generic Paid Search</td>\n",
              "      <td>967656</td>\n",
              "      <td>1404137</td>\n",
              "    </tr>\n",
              "    <tr>\n",
              "      <th>425</th>\n",
              "      <td>2022-04-01</td>\n",
              "      <td>Italy</td>\n",
              "      <td>desktop</td>\n",
              "      <td>Generic Paid Search</td>\n",
              "      <td>163595</td>\n",
              "      <td>317359</td>\n",
              "    </tr>\n",
              "    <tr>\n",
              "      <th>426</th>\n",
              "      <td>2022-06-01</td>\n",
              "      <td>Italy</td>\n",
              "      <td>mobile</td>\n",
              "      <td>Generic Paid Search</td>\n",
              "      <td>895982</td>\n",
              "      <td>1258991</td>\n",
              "    </tr>\n",
              "    <tr>\n",
              "      <th>427</th>\n",
              "      <td>2022-06-01</td>\n",
              "      <td>Italy</td>\n",
              "      <td>tablet</td>\n",
              "      <td>Generic Paid Search</td>\n",
              "      <td>20690</td>\n",
              "      <td>30224</td>\n",
              "    </tr>\n",
              "  </tbody>\n",
              "</table>\n",
              "<p>428 rows × 6 columns</p>\n",
              "</div>\n",
              "      <button class=\"colab-df-convert\" onclick=\"convertToInteractive('df-59e41ade-d8f8-4656-a26b-53bb47812510')\"\n",
              "              title=\"Convert this dataframe to an interactive table.\"\n",
              "              style=\"display:none;\">\n",
              "        \n",
              "  <svg xmlns=\"http://www.w3.org/2000/svg\" height=\"24px\"viewBox=\"0 0 24 24\"\n",
              "       width=\"24px\">\n",
              "    <path d=\"M0 0h24v24H0V0z\" fill=\"none\"/>\n",
              "    <path d=\"M18.56 5.44l.94 2.06.94-2.06 2.06-.94-2.06-.94-.94-2.06-.94 2.06-2.06.94zm-11 1L8.5 8.5l.94-2.06 2.06-.94-2.06-.94L8.5 2.5l-.94 2.06-2.06.94zm10 10l.94 2.06.94-2.06 2.06-.94-2.06-.94-.94-2.06-.94 2.06-2.06.94z\"/><path d=\"M17.41 7.96l-1.37-1.37c-.4-.4-.92-.59-1.43-.59-.52 0-1.04.2-1.43.59L10.3 9.45l-7.72 7.72c-.78.78-.78 2.05 0 2.83L4 21.41c.39.39.9.59 1.41.59.51 0 1.02-.2 1.41-.59l7.78-7.78 2.81-2.81c.8-.78.8-2.07 0-2.86zM5.41 20L4 18.59l7.72-7.72 1.47 1.35L5.41 20z\"/>\n",
              "  </svg>\n",
              "      </button>\n",
              "      \n",
              "  <style>\n",
              "    .colab-df-container {\n",
              "      display:flex;\n",
              "      flex-wrap:wrap;\n",
              "      gap: 12px;\n",
              "    }\n",
              "\n",
              "    .colab-df-convert {\n",
              "      background-color: #E8F0FE;\n",
              "      border: none;\n",
              "      border-radius: 50%;\n",
              "      cursor: pointer;\n",
              "      display: none;\n",
              "      fill: #1967D2;\n",
              "      height: 32px;\n",
              "      padding: 0 0 0 0;\n",
              "      width: 32px;\n",
              "    }\n",
              "\n",
              "    .colab-df-convert:hover {\n",
              "      background-color: #E2EBFA;\n",
              "      box-shadow: 0px 1px 2px rgba(60, 64, 67, 0.3), 0px 1px 3px 1px rgba(60, 64, 67, 0.15);\n",
              "      fill: #174EA6;\n",
              "    }\n",
              "\n",
              "    [theme=dark] .colab-df-convert {\n",
              "      background-color: #3B4455;\n",
              "      fill: #D2E3FC;\n",
              "    }\n",
              "\n",
              "    [theme=dark] .colab-df-convert:hover {\n",
              "      background-color: #434B5C;\n",
              "      box-shadow: 0px 1px 3px 1px rgba(0, 0, 0, 0.15);\n",
              "      filter: drop-shadow(0px 1px 2px rgba(0, 0, 0, 0.3));\n",
              "      fill: #FFFFFF;\n",
              "    }\n",
              "  </style>\n",
              "\n",
              "      <script>\n",
              "        const buttonEl =\n",
              "          document.querySelector('#df-59e41ade-d8f8-4656-a26b-53bb47812510 button.colab-df-convert');\n",
              "        buttonEl.style.display =\n",
              "          google.colab.kernel.accessAllowed ? 'block' : 'none';\n",
              "\n",
              "        async function convertToInteractive(key) {\n",
              "          const element = document.querySelector('#df-59e41ade-d8f8-4656-a26b-53bb47812510');\n",
              "          const dataTable =\n",
              "            await google.colab.kernel.invokeFunction('convertToInteractive',\n",
              "                                                     [key], {});\n",
              "          if (!dataTable) return;\n",
              "\n",
              "          const docLinkHtml = 'Like what you see? Visit the ' +\n",
              "            '<a target=\"_blank\" href=https://colab.research.google.com/notebooks/data_table.ipynb>data table notebook</a>'\n",
              "            + ' to learn more about interactive tables.';\n",
              "          element.innerHTML = '';\n",
              "          dataTable['output_type'] = 'display_data';\n",
              "          await google.colab.output.renderOutput(dataTable, element);\n",
              "          const docLink = document.createElement('div');\n",
              "          docLink.innerHTML = docLinkHtml;\n",
              "          element.appendChild(docLink);\n",
              "        }\n",
              "      </script>\n",
              "    </div>\n",
              "  </div>\n",
              "  "
            ]
          },
          "metadata": {},
          "execution_count": 8
        }
      ]
    },
    {
      "cell_type": "markdown",
      "source": [
        "### Writing data from Pandas to a BigQuery table"
      ],
      "metadata": {
        "id": "n5DYyobpY23i"
      }
    },
    {
      "cell_type": "code",
      "source": [
        "pandas_gbq.to_gbq(df_data, \n",
        "                  destination_table=table_id,\n",
        "                  project_id=project_id, \n",
        "                  if_exists='append',\n",
        "                  )"
      ],
      "metadata": {
        "id": "wVEc24srYlcY"
      },
      "execution_count": null,
      "outputs": []
    }
  ]
}